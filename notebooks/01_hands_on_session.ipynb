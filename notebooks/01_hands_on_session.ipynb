{
 "cells": [
  {
   "cell_type": "markdown",
   "id": "8b5f2498",
   "metadata": {},
   "source": [
    "## Environment Setup"
   ]
  },
  {
   "cell_type": "code",
   "execution_count": null,
   "id": "e3dab938",
   "metadata": {},
   "outputs": [],
   "source": [
    "# Install dependencies\n",
    "!pip install openai wikipedia"
   ]
  },
  {
   "cell_type": "code",
   "execution_count": null,
   "id": "d38d69ae",
   "metadata": {},
   "outputs": [],
   "source": [
    "import os\n",
    "import json\n",
    "import openai\n",
    "\n",
    "# Retrieve credentials to access openai\n",
    "with open('credentials.json') as c:\n",
    "    data = json.load(c)\n",
    "    api_key = data['OPENAI_API_KEY']\n",
    "    \n",
    "openai.api_key = api_key #os.environ.get(\"OPENAI_API_KEY\")\n",
    "\n",
    "if not openai.api_key:\n",
    "    raise ValueError(\"No OpenAI API key found! Make sure OPENAI_API_KEY is set as a Codespaces secret.\")\n",
    "\n",
    "print(\"✅ OpenAI API key loaded successfully!\")"
   ]
  },
  {
   "cell_type": "markdown",
   "id": "ea36b82c",
   "metadata": {},
   "source": [
    "## Define Simple Default Tools"
   ]
  },
  {
   "cell_type": "code",
   "execution_count": null,
   "id": "3e738396",
   "metadata": {},
   "outputs": [],
   "source": [
    "# --- Tools ---\n",
    "\n",
    "import wikipedia\n",
    "\n",
    "def calculator(expression: str) -> str:\n",
    "    \"\"\"Evaluates basic math expressions.\"\"\"\n",
    "    try:\n",
    "        return str(eval(expression))\n",
    "    except Exception as e:\n",
    "        return f\"Error: {e}\"\n",
    "\n",
    "def wiki_search(query: str) -> str:\n",
    "    \"\"\"Fetches short summaries from Wikipedia.\"\"\"\n",
    "    try:\n",
    "        return wikipedia.summary(query, sentences=2)\n",
    "    except Exception as e:\n",
    "        return f\"Error: {e}\"\n",
    "\n",
    "tools = {\n",
    "    \"calculator\": calculator,\n",
    "    \"wiki\": wiki_search,\n",
    "}\n",
    "\n",
    "print(\"✅ Tools ready: calculator(), wiki_search()\")"
   ]
  },
  {
   "cell_type": "markdown",
   "id": "2228b87a",
   "metadata": {},
   "source": [
    "## Define Agent Engine (ReAct Loop)"
   ]
  },
  {
   "cell_type": "code",
   "execution_count": null,
   "id": "e567f92c",
   "metadata": {},
   "outputs": [],
   "source": [
    "# Define the agent's system prompt with an interchangeable tone/personality (you will see later on, why we do this)\n",
    "\n",
    "def inject_system_prompt(agent_tone: str = None) -> str:\n",
    "    # Assign the tone/personality if given, else fall back to default\n",
    "    tone = agent_tone if agent_tone else \"You are an intelligent agent that can reason step by step.\"\n",
    "\n",
    "    # Dynamically gather tool descriptions to allow for new tools to be added later on\n",
    "    tool_descriptions = \"\\n\".join([f\"- {name}(): {fn.__doc__ or 'no description'}\" for name, fn in tools.items()])\n",
    "\n",
    "    return f\"\"\"{tone}\n",
    "    You have access to the following tools:\n",
    "    {tool_descriptions}\n",
    "\n",
    "    Follow this reasoning format strictly and repeat it, until you find the final answer:\n",
    "    Thought: describe your reasoning\n",
    "    Action: choose from the available tools (don't forget to pass the appropriate argument) or ANSWER()\n",
    "    Observation: output/result of the previous action\n",
    "\n",
    "    Rules:\n",
    "    - Use at most ONE tool per step.\n",
    "    - If you already know the answer, respond with:\n",
    "    Action: ANSWER(<final answer here>)\n",
    "    - Do NOT repeat the same tool call multiple times.\n",
    "    - Stop once you have given the final answer.\n",
    "    \"\"\" \n",
    "# TODO: Add line break"
   ]
  },
  {
   "cell_type": "code",
   "execution_count": null,
   "id": "3817b6d8",
   "metadata": {},
   "outputs": [],
   "source": [
    "# --- Agent Function ---\n",
    "\n",
    "# TODO: Prevent double output of observation\n",
    "def run_agent(query: str, max_steps: int = 3, agent_tone: str = None):\n",
    "    print(f\"User: {query}\\n\")\n",
    "\n",
    "    context = inject_system_prompt(agent_tone=agent_tone)\n",
    "\n",
    "    for step in range(1, max_steps + 1):\n",
    "        response = openai.chat.completions.create(\n",
    "            model=\"gpt-4o-mini\",\n",
    "            messages=[\n",
    "                {\"role\": \"system\", \"content\": context},\n",
    "                {\"role\": \"user\", \"content\": f\"User question: {query}\\nPrevious reasoning:\\n{context}\"}\n",
    "            ]\n",
    "        )\n",
    "\n",
    "        text = response.choices[0].message.content.strip()\n",
    "        print(text)\n",
    "\n",
    "        lines = text.splitlines()\n",
    "        action_line = next((l for l in lines if l.startswith(\"Action:\")), None)\n",
    "        if not action_line:\n",
    "            print(\"\\nNo action detected. Stopping.\")\n",
    "            break\n",
    "\n",
    "        action = action_line.replace(\"Action:\", \"\").strip()\n",
    "\n",
    "        if \"ANSWER\" in action:\n",
    "            final = action.split(\"ANSWER\")[-1].strip(\" :()\")\n",
    "            print(f\"\\nFinal Answer: {final}\")\n",
    "            return\n",
    "\n",
    "        if \"(\" in action and action.endswith(\")\"):\n",
    "            tool_name = action.split(\"(\")[0]\n",
    "            tool_input = action[len(tool_name) + 1:-1]\n",
    "\n",
    "            if tool_name in tools:\n",
    "                observation = tools[tool_name](tool_input)\n",
    "            else:\n",
    "                observation = f\"Unknown tool: {tool_name}\"\n",
    "            context += f\"\\n{text}\\nObservation: {observation}\\n\"\n",
    "        else:\n",
    "            print(\"\\nCould not parse tool call. Stopping.\")\n",
    "            break"
   ]
  },
  {
   "cell_type": "markdown",
   "id": "007afb6a",
   "metadata": {},
   "source": [
    "## Try It Out Yourself"
   ]
  },
  {
   "cell_type": "code",
   "execution_count": null,
   "id": "e997f723",
   "metadata": {},
   "outputs": [],
   "source": [
    "run_agent(\"What is 23 * 7?\")"
   ]
  },
  {
   "cell_type": "code",
   "execution_count": null,
   "id": "8065eecb",
   "metadata": {},
   "outputs": [],
   "source": [
    "run_agent(\"What is the square root of 144?\")"
   ]
  },
  {
   "cell_type": "code",
   "execution_count": null,
   "id": "996cd548",
   "metadata": {},
   "outputs": [],
   "source": [
    "run_agent(\"Who discovered penicillin?\")"
   ]
  },
  {
   "cell_type": "code",
   "execution_count": null,
   "id": "88b260e1-7907-4560-85a0-fcad69b3afc6",
   "metadata": {},
   "outputs": [],
   "source": [
    "run_agent(\"When was the Eiffel Tower built?\")"
   ]
  },
  {
   "cell_type": "code",
   "execution_count": null,
   "id": "9a00bf57",
   "metadata": {},
   "outputs": [],
   "source": [
    "# Your code here ..."
   ]
  },
  {
   "cell_type": "markdown",
   "id": "f5b5b142",
   "metadata": {},
   "source": [
    "# 🧩 Challenge: Add Your Own Tool (10 minutes)\n",
    "\n",
    "Now it’s your turn!\n",
    "\n",
    "Add a **new tool** that your agent can use.  \n",
    "Some ideas:\n",
    "- A `reverse(text)` tool that reverses words.\n",
    "- A `coin_flip()` tool that randomly chooses between \"Heads\"/\"Tails\".\n",
    "- A `word_count(text)` tool that counts words.\n",
    "\n",
    "---\n",
    "\n",
    "### 🧠 Steps\n",
    "\n",
    "1. Define your function (like `def reverse(text): ...`).\n",
    "2. Add it to the `tools` dictionary.\n",
    "3. Try prompting the agent to use it!"
   ]
  },
  {
   "cell_type": "markdown",
   "id": "77361813",
   "metadata": {},
   "source": [
    "## Example: Word Count Tool"
   ]
  },
  {
   "cell_type": "code",
   "execution_count": null,
   "id": "3b64ccd3",
   "metadata": {},
   "outputs": [],
   "source": [
    "def reverse(text: str) -> str:\n",
    "    \"\"\"Reverses the order of words in the input text.\"\"\"\n",
    "    try:\n",
    "        return \" \".join(reversed(text.split()))\n",
    "    except Exception as e:\n",
    "        return f\"Error: {e}\"\n",
    "\n",
    "# Don't forget to add your new tool to the dictionary\n",
    "tools[\"reverse\"] = reverse\n",
    "\n",
    "print(\"✅ Added new tool: reverse()\")"
   ]
  },
  {
   "cell_type": "code",
   "execution_count": null,
   "id": "85fd16bd",
   "metadata": {},
   "outputs": [],
   "source": [
    "run_agent(\"Reverse the following text: 'Artificial intelligence enables creative problem solving!'\")"
   ]
  },
  {
   "cell_type": "code",
   "execution_count": null,
   "id": "8be515d9",
   "metadata": {},
   "outputs": [],
   "source": [
    "# Your code here ..."
   ]
  },
  {
   "cell_type": "markdown",
   "id": "424c20be",
   "metadata": {},
   "source": [
    "# 🎭 Activity: Change the Agent's Personality (5-10 minutes)\n",
    "\n",
    "In the system prompt of `run_agent()`, change the **tone** of the agent.  \n",
    "You can make it:\n",
    "\n",
    "- a **teacher** explaining steps in detail,  \n",
    "- a **detective** solving mysteries,  \n",
    "- a **medieval knight**, or  \n",
    "- a **robotic assistant** giving short answers.\n",
    "\n",
    "---\n",
    "\n",
    "🧠 Try it out:\n",
    "1. Create a variable for the new tone and assing it with `agent_tone=<your_new_tone>` when calling `run_agent`:\n",
    "   > teacher_tone = \"You are a curious teacher who explains your reasoning out loud before answering.\"\n",
    "2. Experiment with different tones and see how your agent behaves!"
   ]
  },
  {
   "cell_type": "markdown",
   "id": "f9814ee3",
   "metadata": {},
   "source": [
    "## Example: Gen-Z Agent"
   ]
  },
  {
   "cell_type": "code",
   "execution_count": null,
   "id": "80ae2ed2",
   "metadata": {},
   "outputs": [],
   "source": [
    "# Define a different personality tone than what is currently the default\n",
    "\n",
    "gen_z_tone = \"You are a typical Generation-Z young adult who explains your reasoning out loud (in internet/meme language) before answering.\""
   ]
  },
  {
   "cell_type": "code",
   "execution_count": null,
   "id": "6d16afb3",
   "metadata": {},
   "outputs": [],
   "source": [
    "# Run the agent with example questions as querys and the gen-Z tone setting\n",
    "\n",
    "print(\"___ Gen-Z Agent ___\")\n",
    "run_agent(query=\"What is the square root of 144?\", agent_tone=gen_z_tone)\n",
    "\n",
    "print(\"------\")\n",
    "run_agent(query=\"Who discovered penicillin?\", agent_tone=gen_z_tone)"
   ]
  },
  {
   "cell_type": "code",
   "execution_count": null,
   "id": "e991e454",
   "metadata": {},
   "outputs": [],
   "source": [
    "# Your code here ..."
   ]
  },
  {
   "cell_type": "markdown",
   "id": "cb3091dc",
   "metadata": {},
   "source": [
    "# 🔍 Challenge: Multi-Tool Agent (Optional)\n",
    "\n",
    "Can you make the agent **combine multiple tools**?\n",
    "\n",
    "Example idea:\n",
    "> \"What is the population of France divided by the population of Germany?\"\n",
    "\n",
    "You could:\n",
    "1. Use the `wiki` tool twice (once per country) to extract the population numbers (roughly),\n",
    "2. Use the calculator to divide them.\n",
    "\n",
    "Tip: You can allow more steps by increasing the `max_steps` argument in `run_agent()`."
   ]
  },
  {
   "cell_type": "code",
   "execution_count": null,
   "id": "42d92658",
   "metadata": {},
   "outputs": [],
   "source": [
    "run_agent(\"What is the population of France divided by the population of Germany?\")"
   ]
  },
  {
   "cell_type": "code",
   "execution_count": null,
   "id": "63e0f8bb",
   "metadata": {},
   "outputs": [],
   "source": [
    "# Your code here ..."
   ]
  },
  {
   "cell_type": "markdown",
   "id": "c517a368",
   "metadata": {},
   "source": [
    "# 🏁 Wrap-Up\n",
    "\n",
    "🎉 Congratulations — you’ve just built a working AI agent!\n",
    "\n",
    "You’ve learned:\n",
    "- How an agent reasons using the **Thought–Action–Observation** loop.  \n",
    "- How to integrate **tools** like a calculator or Wikipedia search.  \n",
    "- How to **extend** the system with your own creative ideas.  \n",
    "\n",
    "---\n",
    "\n",
    "💬 **Next steps**\n",
    "- Try connecting to real APIs (e.g., [Open-Meteo](https://open-meteo.com/), [Yahoo Finance](https://github.com/ranaroussi/yfinance)).  \n",
    "- Build a more advanced multi-tool agent with [memory](https://huggingface.co/docs/smolagents/en/tutorials/memory?utm_source=chatgpt.com).  \n",
    "- Or use your gained insights to get into building custom AI assistants with [LibreChat](https://www.librechat.ai/docs/features/agents).\n",
    "\n",
    "---\n",
    "\n",
    "Thanks for participating — and have fun experimenting!"
   ]
  }
 ],
 "metadata": {
  "kernelspec": {
   "display_name": "Python 3 (ipykernel)",
   "language": "python",
   "name": "python3"
  },
  "language_info": {
   "codemirror_mode": {
    "name": "ipython",
    "version": 3
   },
   "file_extension": ".py",
   "mimetype": "text/x-python",
   "name": "python",
   "nbconvert_exporter": "python",
   "pygments_lexer": "ipython3",
   "version": "3.12.6"
  }
 },
 "nbformat": 4,
 "nbformat_minor": 5
}
