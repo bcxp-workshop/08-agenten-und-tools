{
 "cells": [
  {
   "cell_type": "markdown",
   "id": "5fa5825e-d525-405f-8a21-51a3a5477145",
   "metadata": {},
   "source": [
    "# 🤖 Willkommen zum Workshop: Agenten und Tools\n",
    "\n",
    "In diesem Workshop erstellen und erkunden wir einen **KI-Agenten**, der auf einem einfachen OpenAI-Modell basiert.  \n",
    "Wir lernen Schritt für Schritt, wie dieser **folgert** (*= Reason*), **handelt** (*= Act*) und **Tools einsetzt**, um Probleme zu lösen - Schritt für Schritt.\n",
    "\n",
    "---\n",
    "\n",
    "### Lernziele\n",
    "\n",
    "1. Grundverständnis von Agenten und dem **Thought–Action–Observation** (ReAct)-Loop\n",
    "2. Testen und Experimentieren in der Jupyter-Umgebung kennenlernen\n",
    "3. Hands on: Eigene Tools schreiben, schnuppern in Agenten-Persönlichkeiten und Multi-Tool-Agenten"
   ]
  },
  {
   "attachments": {},
   "cell_type": "markdown",
   "id": "8e375066-ca77-4e1b-bcbb-5444d1e56f61",
   "metadata": {},
   "source": [
    "# 💭 Was ist ein Agent?\n",
    "\n",
    "\n",
    "Ein **Agent** ist ein KI-Modell, das in der Lage ist, zu denken, zu planen und mit seiner Umgebung zu interagieren.\n",
    "Abgeleitet wird dies von der Handlungsfähigkeit (*= agency*), über die der Agent verfügt, um so mit dessen Umgebung interagieren zu können.\n",
    "\n",
    "---\n",
    "\n",
    "### Die Hauptkomponenten\n",
    "\n",
    "Vereinfacht gesagt, besteht ein Agent aus zwei Komponenten:\n",
    "\n",
    "- 🧠 Das Gehirn (LLM)\n",
    "- 🛠️ Der Werkzeugkoffer (Fähigkeiten und Tools)\n",
    "\n",
    "Aus dem Zusammenspiel beider Teile, ist ein Agent fähig:\n",
    "- Über eine Aufgabe nachzudenken,\n",
    "- Zu entscheiden, welche Aktion vorzunehmen ist,\n",
    "- Diese Aktion mithilfe von **Tools** auszuführen,\n",
    "- Die resultierenden Ergebnisse zu beobachten und\n",
    "- Die vorherigen Schritte zu wiederholen, bis eine Antwort gefunden ist.\n",
    "\n",
    "---\n",
    "\n",
    "### Der ReAct-Loop\n",
    "\n",
    "Dieses Pattern wird oft als **ReAct-Loop** bezeichnet, kurz für **Reason + Act** (Folgern + Handeln).\n",
    "\n",
    "```\n",
    "User: When was the Eiffel Tower built?\n",
    "\n",
    "Thought: I need to find out when the Eiffel Tower was built. The best way to get accurate information quickly is to look up a summary from Wikipedia. \n",
    "Action: wiki(\"Eiffel Tower\")\n",
    "Observation: The Eiffel Tower was completed in 1889.\n",
    "Thought: The Eiffel Tower was built between 1887 and 1889, with completion occurring in 1889. This means the final construction was completed that year. \n",
    "Action: ANSWER(1889)\n",
    "\n",
    "Final Answer: 1889\n",
    "\n",
    "```\n",
    "\n",
    "---\n",
    "\n",
    "### Zusammenfassung\n",
    "\n",
    "Zusammenfassend lässt sich sagen, dass ein Agent ein System ist, das ein KI-Modell (in der Regel ein LLM) als zentrale Entscheidungsmaschine nutzt, um\n",
    "\n",
    "- natürliche Sprache zu verstehen: menschliche Anweisungen zu interpretieren und sinnvoll darauf zu reagieren\n",
    "- zu denken und zu planen: Informationen zu analysieren, Entscheidungen zu treffen und Strategien zur Problemlösung zu entwickeln\n",
    "- mit seiner Umgebung zu interagieren: Informationen zu sammeln, Maßnahmen zu ergreifen und die Ergebnisse dieser Maßnahmen zu beobachten."
   ]
  },
  {
   "cell_type": "markdown",
   "id": "7e65caee-4703-4ebf-8498-9fb80e46bcdf",
   "metadata": {},
   "source": [
    "## 🧪 Einführung in Jupyter-Notebooks\n",
    "\n",
    "Im Rahmen des praktischen Teils verwenden wir ein Jupyter Notebook (`01_hands_on_sessions.ipynb`), mit dem sich Text, Code und dessen Ausgaben an einem Ort kombinieren lassen – ideal für erste Experimente mit KI-Agenten.\n",
    "\n",
    "---\n",
    "\n",
    "### Die Zellentypen\n",
    "\n",
    "Ein Notebook besteht aus Zellen:\n",
    "\n",
    "- 📝 Markdown-Zellen – enthalten Text, Erläuterungen und Formatierungen\n",
    "- 💻 Code-Zellen – enthalten Python-Code, der ausgeführt werden kann\n",
    "\n",
    "Über das Menü-Band oben (`+`) oder dem Shortcut `B` wird eine neue Zelle unter der aktuell ausgewählten hinzugefügt. Der Typ der Zelle kann ebenfalls dem Menüband entnommen werden (und müsste für diese Zelle `Markdown` sein).\n",
    "\n",
    "---\n",
    "\n",
    "### Code ausführen\n",
    "\n",
    "Eine Code-Zelle kann über mehrere Wege ausgeführt werden:\n",
    "- Über das Menü-Band (*Play-Button*)\n",
    "- Mit `STRG + Enter` - der Fokus bleibt auf der ausgeführten Zelle\n",
    "- Mit `Shift + Enter`- der Fokus springt weiter auf die nächste Zelle\n",
    "\n",
    "---\n",
    "\n",
    "### Hello, World!\n",
    "\n",
    "Führe die folgende Zelle aus - der Output müsste direkt darunter erscheinen. Dann bist du startklar für die Hands-On Session!\n"
   ]
  },
  {
   "cell_type": "code",
   "execution_count": null,
   "id": "b7cb851e-e1d0-4b85-9f86-9602cd7d0da5",
   "metadata": {},
   "outputs": [],
   "source": [
    "# Execute your first Python command!\n",
    "print(\"Hello, World!\")"
   ]
  }
 ],
 "metadata": {
  "kernelspec": {
   "display_name": "Python 3 (ipykernel)",
   "language": "python",
   "name": "python3"
  },
  "language_info": {
   "codemirror_mode": {
    "name": "ipython",
    "version": 3
   },
   "file_extension": ".py",
   "mimetype": "text/x-python",
   "name": "python",
   "nbconvert_exporter": "python",
   "pygments_lexer": "ipython3",
   "version": "3.12.6"
  }
 },
 "nbformat": 4,
 "nbformat_minor": 5
}
