{
 "cells": [
  {
   "cell_type": "markdown",
   "id": "8b5f2498",
   "metadata": {},
   "source": [
    "## Set-Up der Umgebung"
   ]
  },
  {
   "cell_type": "code",
   "execution_count": null,
   "id": "e3dab938",
   "metadata": {},
   "outputs": [],
   "source": [
    "# Install dependencies\n",
    "!pip install openai wikipedia"
   ]
  },
  {
   "cell_type": "code",
   "execution_count": null,
   "id": "d38d69ae",
   "metadata": {},
   "outputs": [],
   "source": [
    "import os\n",
    "import json\n",
    "import openai\n",
    "\n",
    "# Retrieve credentials to access openai\n",
    "with open('credentials.json') as c:\n",
    "    data = json.load(c)\n",
    "    api_key = data['OPENAI_API_KEY']\n",
    "    \n",
    "openai.api_key = api_key\n",
    "\n",
    "if not openai.api_key:\n",
    "    raise ValueError(\"No OpenAI API key found! Make sure OPENAI_API_KEY is set as a Codespaces secret.\")\n",
    "\n",
    "print(\"✅ OpenAI API key loaded successfully!\")"
   ]
  },
  {
   "cell_type": "markdown",
   "id": "ea36b82c",
   "metadata": {},
   "source": [
    "## Definiere Default-Tools\n",
    "\n",
    "Im folgenden werden zwei einfache Tools definiert, die dem Agent von Anfang zur Verfügung stehen:\n",
    "\n",
    "- **calculator:** Für das Lösen mathematischer Aufgaben, die als `expression` übergeben werden, z.B. `What is 12 * 12?`.\n",
    "- **wiki_search:** Erlaubt dem Agenten, Zusammenfassungen aus Wikipedia-Artikeln zu erstellen, die sich auf die `query` beziehen.\n",
    "\n",
    "Die erstellten Tools werden dem `tools`-Dictionary hinzugefügt, welches um neue Tools erweitert werden kann."
   ]
  },
  {
   "cell_type": "code",
   "execution_count": null,
   "id": "3e738396",
   "metadata": {},
   "outputs": [],
   "source": [
    "# --- Tools ---\n",
    "\n",
    "import wikipedia\n",
    "\n",
    "def calculator(expression: str) -> str:\n",
    "    \"\"\"Evaluates basic math expressions.\"\"\"\n",
    "    try:\n",
    "        return str(eval(expression))\n",
    "    except Exception as e:\n",
    "        return f\"Error: {e}\"\n",
    "\n",
    "def wiki_search(query: str) -> str:\n",
    "    \"\"\"Fetches short summaries from Wikipedia.\"\"\"\n",
    "    try:\n",
    "        return wikipedia.summary(query, sentences=2)\n",
    "    except Exception as e:\n",
    "        return f\"Error: {e}\"\n",
    "\n",
    "tools = {\n",
    "    \"calculator\": calculator,\n",
    "    \"wiki\": wiki_search,\n",
    "}\n",
    "\n",
    "print(\"✅ Tools ready: calculator(), wiki_search()\")"
   ]
  },
  {
   "cell_type": "markdown",
   "id": "2228b87a",
   "metadata": {},
   "source": [
    "## Definiere die Anweisungen des Agenten\n",
    "\n",
    "Die Definition der Anweisungen bzw. **System Message** des Agenten werden im folgenden als eigene Funktion ausgelagert, die in der Hauptfunktion des Agenten aufgerufen wird. \n",
    "\n",
    "Das gibt uns mehr Flexiblität und hilft dabei, den Code übersichtlicher zu gestalten.\n",
    "\n",
    "Die System Message setzt sich aus den folgenden Teilen zusammen:\n",
    "- **tone**: Die Persönlichkeit des Agenten - wenn es keinen Input gibt, gibt es einen Default.\n",
    "- **tools**: Anhand der *docstrings* (z.B. `\"\"\"Evaluates basic math expressions.\"\"\"`) in den Tool-Funktionen wird automatisiert eine Liste von verfügbaren Tools zusammengestellt.\n",
    "- **loop**: Der Agent wird angewiesen, stets den *Thought-Action-Observation-Loop* zu befolgen.\n",
    "- **rules**: Weitere Anweisungen, z.B. *early stopping*, dass der Agent aus dem Loop aussteigt, wenn eine Antwort gefunden wurde."
   ]
  },
  {
   "cell_type": "code",
   "execution_count": null,
   "id": "e567f92c",
   "metadata": {},
   "outputs": [],
   "source": [
    "# --- System Message ---\n",
    "\n",
    "def inject_system_message(agent_tone: str = None) -> str:\n",
    "    # Assign the tone/personality if given, else fall back to default\n",
    "    tone = agent_tone if agent_tone else \"You are an intelligent agent that can reason step by step.\"\n",
    "\n",
    "    # Dynamically gather tool descriptions to allow for new tools to be added later on\n",
    "    tool_descriptions = \"\\n\".join([f\"- {name}(): {fn.__doc__ or 'no description'}\" for name, fn in tools.items()])\n",
    "\n",
    "    return f\"\"\"{tone}\n",
    "    You have access to the following tools:\n",
    "    {tool_descriptions}\n",
    "\n",
    "    Follow this reasoning format strictly and repeat it, until you find the final answer:\n",
    "    Thought: describe your reasoning\n",
    "    Action: choose from the available tools (don't forget to pass the appropriate argument) or ANSWER()\n",
    "    Observation: output/result of the previous action\n",
    "\n",
    "    Rules:\n",
    "    - Use at most ONE tool per step.\n",
    "    - If you already know the answer, respond with:\n",
    "    Action: ANSWER(<final answer here>)\n",
    "    - Do NOT repeat the same tool call multiple times.\n",
    "    - Stop once you have given the final answer.\n",
    "    \"\"\" \n",
    "    \n",
    "print(\"✅ Agent system message ready!\")"
   ]
  },
  {
   "cell_type": "markdown",
   "id": "b7136390-b840-44b4-9922-b6eaa18789d9",
   "metadata": {},
   "source": [
    "## Definiere die Hauptfunktion des Agenten\n",
    "\n",
    "Um den Agenten ausführen zu können, ist im folgenden die Funktion `run_agent` vorbereitet. \n",
    "\n",
    "Diese nimmt die Anfrage (= *query*) des Users an den Agenten, die maximale Anzahl der *Thought-Action-Observation*-Schritte und einen optionalen *Tone* entgegen. Letzteres wirst du für eine spätere Übung brauchen :).\n",
    "\n",
    "Bearbeitet wird die Anfrage durch den Aufruf der OpenAI Schnittstelle, welche die folgenden Argumente annimmt:\n",
    "- **model**: Das zu verwendende LLM - in unserem Fall ist das `gpt-4o-mini` völlig ausreichend.\n",
    "- **messages**: Hier wird zum einen der *Kontext*, als auch die *Query* angefügt.\n",
    "\n",
    "Die Antwort (= *response*) des Modells wird dann verarbeitet und je nach Inhalt entsprechend formattiert. \n",
    "\n",
    "Der Kontext, der ursprünglich nur aus der *System Message* besteht, wird im weiteren Verlauf um die Ergebnisse bzw. *Observations* aus den vorangegangen Schritten erweitert."
   ]
  },
  {
   "cell_type": "code",
   "execution_count": null,
   "id": "3817b6d8",
   "metadata": {},
   "outputs": [],
   "source": [
    "# --- Agent Function ---\n",
    "\n",
    "def run_agent(query: str, max_steps: int = 3, agent_tone: str = None):\n",
    "    print(f\"User: {query}\\n\")\n",
    "\n",
    "    context = inject_system_message(agent_tone=agent_tone)\n",
    "\n",
    "    for step in range(1, max_steps + 1):\n",
    "        response = openai.chat.completions.create(\n",
    "            model=\"gpt-4o-mini\",\n",
    "            messages=[\n",
    "                {\"role\": \"system\", \"content\": context},\n",
    "                {\"role\": \"user\", \"content\": f\"User question: {query}\\nPrevious reasoning:\\n{context}\"}\n",
    "            ]\n",
    "        )\n",
    "\n",
    "        text = response.choices[0].message.content.strip()\n",
    "        print(text)\n",
    "\n",
    "        lines = text.splitlines()\n",
    "        action_line = next((l for l in lines if l.startswith(\"Action:\")), None)\n",
    "        if not action_line:\n",
    "            print(\"\\nNo action detected. Stopping.\")\n",
    "            break\n",
    "\n",
    "        action = action_line.replace(\"Action:\", \"\").strip()\n",
    "\n",
    "        if \"ANSWER\" in action:\n",
    "            final = action.split(\"ANSWER\")[-1].strip(\" :()\")\n",
    "            print(f\"\\nFinal Answer: {final}\")\n",
    "            return\n",
    "\n",
    "        if \"(\" in action and action.endswith(\")\"):\n",
    "            tool_name = action.split(\"(\")[0]\n",
    "            tool_input = action[len(tool_name) + 1:-1]\n",
    "\n",
    "            if tool_name in tools:\n",
    "                observation = tools[tool_name](tool_input)\n",
    "            else:\n",
    "                observation = f\"Unknown tool: {tool_name}\"\n",
    "            context += f\"\\n{text}\\nObservation: {observation}\\n\"\n",
    "        else:\n",
    "            print(\"\\nCould not parse tool call. Stopping.\")\n",
    "            break\n",
    "\n",
    "print(\"✅ Agent main function set up!\")"
   ]
  },
  {
   "cell_type": "markdown",
   "id": "007afb6a",
   "metadata": {},
   "source": [
    "## Probier's aus!\n",
    "\n",
    "Führe die **Agenten-Funktion** mit verschiedenen Anfragen aus und teste die Verwendung der *Default-Tools* und des *ReAct-Loop*-Formats."
   ]
  },
  {
   "cell_type": "code",
   "execution_count": null,
   "id": "e997f723",
   "metadata": {},
   "outputs": [],
   "source": [
    "run_agent(\"What is 23 * 7?\")"
   ]
  },
  {
   "cell_type": "code",
   "execution_count": null,
   "id": "8065eecb",
   "metadata": {},
   "outputs": [],
   "source": [
    "run_agent(\"What is the square root of 144?\")"
   ]
  },
  {
   "cell_type": "code",
   "execution_count": null,
   "id": "996cd548",
   "metadata": {},
   "outputs": [],
   "source": [
    "run_agent(\"Who discovered penicillin?\")"
   ]
  },
  {
   "cell_type": "code",
   "execution_count": null,
   "id": "88b260e1-7907-4560-85a0-fcad69b3afc6",
   "metadata": {},
   "outputs": [],
   "source": [
    "run_agent(\"When was the Eiffel Tower built?\")"
   ]
  },
  {
   "cell_type": "code",
   "execution_count": null,
   "id": "9a00bf57",
   "metadata": {},
   "outputs": [],
   "source": [
    "# Your code here ..."
   ]
  },
  {
   "cell_type": "markdown",
   "id": "f5b5b142",
   "metadata": {},
   "source": [
    "# 🧩 Übung: Füge dein eigenes Tools hinzu (10 Minuten)\n",
    "\n",
    "Jetzt bist du dran!\n",
    "\n",
    "Füge ein **neues Tool** hinzu, das der Agent verwenden kann.  \n",
    "Einige Ideen:\n",
    "- Ein `reverse(text)`-Tool, das Wörter umkehrt.\n",
    "- Ein `coin_flip()`-Tool, das zufällig zwischen „Kopf“ und „Zahl“ wählt.\n",
    "- Ein Tool `word_count(text)`, das Wörter zählt.\n",
    "\n",
    "---\n",
    "\n",
    "### 🧠 Vorgehensweise\n",
    "\n",
    "1. Definiere dein Tool und beschreibe dessen Funktion mit einem *docstring* (siehe Beispiel in nächster Code-Zelle).\n",
    "2. Füge dein neues Tool dem `tools`-Dictionary hinzu.\n",
    "3. Versuche, durch deine Prompts, den Agenten aufzufordern, das neue Tool zu verwenden!"
   ]
  },
  {
   "cell_type": "markdown",
   "id": "77361813",
   "metadata": {},
   "source": [
    "## Beispiel: Word Count Tool"
   ]
  },
  {
   "cell_type": "code",
   "execution_count": null,
   "id": "3b64ccd3",
   "metadata": {},
   "outputs": [],
   "source": [
    "def reverse(text: str) -> str:\n",
    "    \"\"\"Reverses the order of words in the input text.\"\"\"\n",
    "    try:\n",
    "        return \" \".join(reversed(text.split()))\n",
    "    except Exception as e:\n",
    "        return f\"Error: {e}\"\n",
    "\n",
    "# Don't forget to add your new tool to the dictionary\n",
    "tools[\"reverse\"] = reverse\n",
    "\n",
    "print(\"✅ Added new tool: reverse()\")"
   ]
  },
  {
   "cell_type": "code",
   "execution_count": null,
   "id": "85fd16bd",
   "metadata": {},
   "outputs": [],
   "source": [
    "run_agent(\"Reverse the following text: 'Artificial intelligence enables creative problem solving!'\")"
   ]
  },
  {
   "cell_type": "code",
   "execution_count": null,
   "id": "8be515d9",
   "metadata": {},
   "outputs": [],
   "source": [
    "# Your code here ..."
   ]
  },
  {
   "cell_type": "markdown",
   "id": "424c20be",
   "metadata": {},
   "source": [
    "# 🎭 Übung: Verändere die Persönlichkeit des Agenten (5-10 Minuten)\n",
    "\n",
    "Jetzt kommt das optionale `tone`-Argument der `run_agent()`-Funktion zum Einsatz! Verändere die Persönlichkeit des Agenten.  \n",
    "Hier ein paar Inspirationen:\n",
    "\n",
    "- ein **Lehrer**, der seine Schritte im Detail erklärt,  \n",
    "- ein **Detektiv** dem kein Rätsel zu schwer ist,  \n",
    "- ein **mittelalterlicher Ritter**, oder\n",
    "- ein **Digital Native** aus der Generation Z.\n",
    "\n",
    "---\n",
    "\n",
    "### 🧠 Vorgehensweise:\n",
    "\n",
    "1. Erstelle eine Variable für die neue Persönlichkeit und weise diese beim Aufruf von `run_agent` dem Wert `agent_tone=<dein_neuer_tone>` zu:\n",
    "    > teacher_tone = \"You are a curious teacher who explains your reasoning out loud before answering.\"\n",
    "2. Probiere verschiedene *tones* aus und beobachte, wie sich der Agent verhält!"
   ]
  },
  {
   "cell_type": "markdown",
   "id": "f9814ee3",
   "metadata": {},
   "source": [
    "## Beispiel: Gen-Z Agent"
   ]
  },
  {
   "cell_type": "code",
   "execution_count": null,
   "id": "80ae2ed2",
   "metadata": {},
   "outputs": [],
   "source": [
    "# Define a different personality tone than what is currently the default\n",
    "\n",
    "gen_z_tone = \"You are a typical Generation-Z young adult who explains your reasoning out loud (in internet/meme language) before answering.\""
   ]
  },
  {
   "cell_type": "code",
   "execution_count": null,
   "id": "6d16afb3",
   "metadata": {},
   "outputs": [],
   "source": [
    "# Run the agent with example questions as querys and the Gen-Z tone setting\n",
    "\n",
    "print(\"___ Gen-Z Agent ___\")\n",
    "run_agent(query=\"What is the square root of 144?\", agent_tone=gen_z_tone)\n",
    "\n",
    "print(\"------\")\n",
    "run_agent(query=\"Who discovered penicillin?\", agent_tone=gen_z_tone)"
   ]
  },
  {
   "cell_type": "code",
   "execution_count": null,
   "id": "e991e454",
   "metadata": {},
   "outputs": [],
   "source": [
    "# Your code here ..."
   ]
  },
  {
   "cell_type": "markdown",
   "id": "cb3091dc",
   "metadata": {},
   "source": [
    "# 🔍 Übung: Multi-Tool Agent (Optional)\n",
    "\n",
    "Kannst du den Agenten dazu bringen, **mehrere Tools** zu kombinieren?\n",
    "\n",
    "Zum Beispiel:\n",
    "> \"What is the population of France divided by the population of Germany?\"\n",
    "\n",
    "Damit könnte der Agent...\n",
    "1. das `wiki`-Tool zweimal verwenden (einmal pro Land), um die ungefähre Einwohnerzahl zu bestimmen und\n",
    "2. mithilfe des `calculator`-Tools das Ergebnis ausrechnen.\n",
    "\n",
    "**Tipp:** Du kannst mehr Schritte im ReAct-Loop zulassen, indem du das Argument `max_steps` in `run_agent()` erhöhst."
   ]
  },
  {
   "cell_type": "code",
   "execution_count": null,
   "id": "42d92658",
   "metadata": {},
   "outputs": [],
   "source": [
    "run_agent(\"What is the population of France divided by the population of Germany?\")"
   ]
  },
  {
   "cell_type": "code",
   "execution_count": null,
   "id": "63e0f8bb",
   "metadata": {},
   "outputs": [],
   "source": [
    "# Your code here ..."
   ]
  },
  {
   "cell_type": "markdown",
   "id": "c517a368",
   "metadata": {},
   "source": [
    "# 🏁 Wrap-Up\n",
    "\n",
    "🎉 Glückwunsch — du hast gerade einen funktionierenden KI-Agenten erstellt!\n",
    "\n",
    "Du hast gelernt:\n",
    "- Wie ein Agent mithilfe des **Thought–Action–Observation**-Loop folgert und handelt.  \n",
    "- Wie **Tools**, zum Beispiel der Taschenrechner oder die Wikipedia-Suche, integriert werden.  \n",
    "- Wie du das System mit deinen eigenen kreativen Ideen **erweitern** kannst.   \n",
    "\n",
    "---\n",
    "\n",
    "💬 **Nächste Schritte**\n",
    "- Versuche, deine Tools an *echten APIs* anzubinden (e.g., [Open-Meteo](https://open-meteo.com/), [Yahoo Finance](https://github.com/ranaroussi/yfinance)).  \n",
    "- Erstelle einen *komplexeren Multi-Tool-Agenten* mit [Gedächtnis](https://huggingface.co/docs/smolagents/en/tutorials/memory?utm_source=chatgpt.com).  \n",
    "- Oder nutze deine gewonnenen Erkenntnisse, um eigene KI-Assistenten in [LibreChat](https://www.librechat.ai/docs/features/agents) zu erstellen.\n",
    "\n",
    "---\n",
    "\n",
    "Vielen Dank für deine Teilnahme – und viel Spaß beim weiteren Experimentieren!"
   ]
  }
 ],
 "metadata": {
  "kernelspec": {
   "display_name": "Python 3 (ipykernel)",
   "language": "python",
   "name": "python3"
  },
  "language_info": {
   "codemirror_mode": {
    "name": "ipython",
    "version": 3
   },
   "file_extension": ".py",
   "mimetype": "text/x-python",
   "name": "python",
   "nbconvert_exporter": "python",
   "pygments_lexer": "ipython3",
   "version": "3.12.6"
  }
 },
 "nbformat": 4,
 "nbformat_minor": 5
}
